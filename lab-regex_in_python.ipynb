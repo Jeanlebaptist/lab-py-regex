{
 "cells": [
  {
   "cell_type": "markdown",
   "metadata": {},
   "source": [
    "# LAB | Regular Expressions (Regex) in Python"
   ]
  },
  {
   "cell_type": "markdown",
   "metadata": {},
   "source": [
    "## Overview\n",
    "This exercise notebook will help you practice using regular expressions in Python. Regular expressions are powerful tools for matching patterns in strings, which can be useful for validation, searching, and data manipulation.\n",
    "\n",
    "## Instructions\n",
    "- Complete each exercise by writing the appropriate regex pattern and Python code in the provided space.\n",
    "- Test your code to ensure it works as expected.\n",
    "<!-- - Use the hints provided if you get stuck. -->"
   ]
  },
  {
   "cell_type": "markdown",
   "metadata": {},
   "source": [
    "### Exercise 1: Match Email Addresses\n",
    "Write a regex pattern to match valid email addresses. An email address should contain an '@' symbol and a domain."
   ]
  },
  {
   "cell_type": "code",
   "execution_count": 1,
   "metadata": {},
   "outputs": [
    {
     "name": "stdout",
     "output_type": "stream",
     "text": [
      "Valid email\n"
     ]
    }
   ],
   "source": [
    "import re\n",
    "\n",
    "# Example input\n",
    "email = \"example@example.com\"\n",
    "\n",
    "# Practical regex pattern:\n",
    "# - Local part: letters, digits, and allowed symbols . _ % + -\n",
    "# - '@' separator\n",
    "# - Domain: letters, digits, dots, hyphens\n",
    "# - TLD: 2–63 letters\n",
    "pattern = r\"^[A-Za-z0-9._%+-]+@[A-Za-z0-9.-]+\\.[A-Za-z]{2,63}$\"\n",
    "\n",
    "# Test the regex\n",
    "if re.fullmatch(pattern, email):\n",
    "    print(\"Valid email\")\n",
    "else:\n",
    "    print(\"Invalid email\")\n"
   ]
  },
  {
   "cell_type": "markdown",
   "metadata": {},
   "source": [
    "### Exercise 2: Validate Phone Numbers\n",
    "Create a regex pattern to validate phone numbers in the format (123) 456-7890 or 123-456-7890."
   ]
  },
  {
   "cell_type": "code",
   "execution_count": 2,
   "metadata": {},
   "outputs": [
    {
     "name": "stdout",
     "output_type": "stream",
     "text": [
      "Valid phone number\n"
     ]
    }
   ],
   "source": [
    "import re\n",
    "\n",
    "# Example input\n",
    "phone_number = \"(123) 456-7890\"\n",
    "\n",
    "# Pattern:\n",
    "# ^            -> start of string\n",
    "# \\(?\\d{3}\\)?  -> 3 digits, optionally wrapped in parentheses\n",
    "# [\\s-]?       -> optional space or hyphen\n",
    "# \\d{3}        -> 3 digits\n",
    "# -            -> hyphen\n",
    "# \\d{4}        -> 4 digits\n",
    "# $            -> end of string\n",
    "pattern = r\"^(?:\\(\\d{3}\\)\\s|\\d{3}-)\\d{3}-\\d{4}$\"\n",
    "\n",
    "# Test the regex\n",
    "if re.fullmatch(pattern, phone_number):\n",
    "    print(\"Valid phone number\")\n",
    "else:\n",
    "    print(\"Invalid phone number\")\n"
   ]
  },
  {
   "cell_type": "markdown",
   "metadata": {},
   "source": [
    "### Exercise 3: Extract Dates\n",
    "Write a regex pattern to extract dates in the format YYYY-MM-DD from a string."
   ]
  },
  {
   "cell_type": "code",
   "execution_count": 3,
   "metadata": {},
   "outputs": [
    {
     "name": "stdout",
     "output_type": "stream",
     "text": [
      "['2024-12-25']\n"
     ]
    }
   ],
   "source": [
    "import re\n",
    "\n",
    "# Example input\n",
    "text = \"The event is scheduled for 2024-12-25.\"\n",
    "\n",
    "# Pattern:\n",
    "# \\b         -> word boundary to avoid partial matches\n",
    "# \\d{4}      -> exactly 4 digits (year)\n",
    "# -          -> hyphen separator\n",
    "# \\d{2}      -> exactly 2 digits (month)\n",
    "# -          -> hyphen separator\n",
    "# \\d{2}      -> exactly 2 digits (day)\n",
    "# \\b         -> word boundary\n",
    "pattern = r\"\\b\\d{4}-\\d{2}-\\d{2}\\b\"\n",
    "\n",
    "# Find all matches\n",
    "dates = re.findall(pattern, text)\n",
    "print(dates)\n"
   ]
  },
  {
   "cell_type": "markdown",
   "metadata": {},
   "source": [
    "### Exercise 4: Match URLs\n",
    "Create a regex pattern to match URLs that start with http:// or https://."
   ]
  },
  {
   "cell_type": "code",
   "execution_count": 4,
   "metadata": {},
   "outputs": [
    {
     "name": "stdout",
     "output_type": "stream",
     "text": [
      "Valid URL\n"
     ]
    }
   ],
   "source": [
    "import re\n",
    "\n",
    "# Example input\n",
    "url = \"https://www.example.com\"\n",
    "\n",
    "# Pattern:\n",
    "# ^https?://       -> must start with http:// or https://\n",
    "# [\\w.-]+          -> domain name (letters, digits, underscore, dot, hyphen)\n",
    "# (?:\\.[a-zA-Z]{2,63})+  -> at least one dot followed by TLD (2–63 letters)\n",
    "# (?:[/?#]\\S*)?    -> optional path, query, or fragment\n",
    "# $                -> end of string\n",
    "pattern = r\"^https?://[\\w.-]+(?:\\.[a-zA-Z]{2,63})+(?:[/?#]\\S*)?$\"\n",
    "\n",
    "# Test the regex\n",
    "if re.fullmatch(pattern, url):\n",
    "    print(\"Valid URL\")\n",
    "else:\n",
    "    print(\"Invalid URL\")\n"
   ]
  },
  {
   "cell_type": "markdown",
   "metadata": {},
   "source": [
    "### Exercise 5: Find Words Starting with a Specific Letter\n",
    "Write a regex pattern to find all words starting with the letter 'a' in a given string."
   ]
  },
  {
   "cell_type": "code",
   "execution_count": 5,
   "metadata": {},
   "outputs": [
    {
     "name": "stdout",
     "output_type": "stream",
     "text": [
      "['A', 'a']\n"
     ]
    }
   ],
   "source": [
    "import re\n",
    "\n",
    "# Example input\n",
    "text = \"A quick brown fox jumps over a lazy dog.\"\n",
    "\n",
    "# Pattern:\n",
    "# \\b        -> word boundary\n",
    "# [aA]      -> matches lowercase 'a' or uppercase 'A'\n",
    "# \\w*       -> zero or more word characters (letters, digits, underscore)\n",
    "pattern = r\"\\b[aA]\\w*\\b\"\n",
    "\n",
    "# Find all matches\n",
    "words = re.findall(pattern, text)\n",
    "print(words)\n"
   ]
  },
  {
   "cell_type": "markdown",
   "metadata": {},
   "source": [
    "### Exercise 6: Match Hexadecimal Colors\n",
    "Create a regex pattern to match hexadecimal color codes (e.g., #FFFFFF)."
   ]
  },
  {
   "cell_type": "code",
   "execution_count": 6,
   "metadata": {},
   "outputs": [
    {
     "name": "stdout",
     "output_type": "stream",
     "text": [
      "Valid hex color code\n"
     ]
    }
   ],
   "source": [
    "import re\n",
    "\n",
    "# Example input\n",
    "color_code = \"#FFFFFF\"\n",
    "\n",
    "# Pattern:\n",
    "# ^#              -> start with a hash symbol\n",
    "# (?:[0-9A-Fa-f]{3}|[0-9A-Fa-f]{6})  -> exactly 3 or 6 hexadecimal digits\n",
    "# $               -> end of string\n",
    "pattern = r\"^#(?:[0-9A-Fa-f]{3}|[0-9A-Fa-f]{6})$\"\n",
    "\n",
    "# Test the regex\n",
    "if re.fullmatch(pattern, color_code):\n",
    "    print(\"Valid hex color code\")\n",
    "else:\n",
    "    print(\"Invalid hex color code\")\n"
   ]
  },
  {
   "cell_type": "markdown",
   "metadata": {},
   "source": [
    "### Exercise 7: Validate Passwords \n",
    "Write a regex pattern to validate passwords that must be at least 8 characters long and contain at least one uppercase letter, one lowercase letter, one digit, and one special character."
   ]
  },
  {
   "cell_type": "code",
   "execution_count": 7,
   "metadata": {},
   "outputs": [
    {
     "name": "stdout",
     "output_type": "stream",
     "text": [
      "Valid password\n"
     ]
    }
   ],
   "source": [
    "import re\n",
    "\n",
    "# Example input\n",
    "password = \"Password123!\"\n",
    "\n",
    "# Pattern explanation:\n",
    "# ^                 -> start of string\n",
    "# (?=.*[A-Z])       -> at least one uppercase letter\n",
    "# (?=.*[a-z])       -> at least one lowercase letter\n",
    "# (?=.*\\d)          -> at least one digit\n",
    "# (?=.*[^A-Za-z0-9]) -> at least one special character\n",
    "# .{8,}             -> at least 8 characters total\n",
    "# $                 -> end of string\n",
    "pattern = r\"^(?=.*[A-Z])(?=.*[a-z])(?=.*\\d)(?=.*[^A-Za-z0-9]).{8,}$\"\n",
    "\n",
    "# Test the regex\n",
    "if re.fullmatch(pattern, password):\n",
    "    print(\"Valid password\")\n",
    "else:\n",
    "    print(\"Invalid password\")\n"
   ]
  },
  {
   "cell_type": "markdown",
   "metadata": {},
   "source": [
    "### Exercise 8: Remove Extra Spaces \n",
    "Create a regex pattern that removes extra spaces from a string while keeping single spaces between words."
   ]
  },
  {
   "cell_type": "code",
   "execution_count": 8,
   "metadata": {},
   "outputs": [
    {
     "name": "stdout",
     "output_type": "stream",
     "text": [
      "This is an example.\n"
     ]
    }
   ],
   "source": [
    "import re\n",
    "\n",
    "# Example input\n",
    "text = \"This   is   an   example.\"\n",
    "\n",
    "# Pattern:\n",
    "# \\s+   -> one or more whitespace characters (spaces, tabs, etc.)\n",
    "# Replace them with a single space\n",
    "pattern = r\"\\s+\"\n",
    "\n",
    "# Replace extra spaces with a single space and strip leading/trailing spaces\n",
    "cleaned_text = re.sub(pattern, \" \", text).strip()\n",
    "\n",
    "print(cleaned_text)\n"
   ]
  },
  {
   "cell_type": "markdown",
   "metadata": {},
   "source": [
    "### Exercise 9: Match IP Addresses \n",
    "Write a regex pattern to match valid IPv4 addresses."
   ]
  },
  {
   "cell_type": "code",
   "execution_count": 9,
   "metadata": {},
   "outputs": [
    {
     "name": "stdout",
     "output_type": "stream",
     "text": [
      "Valid IP address\n"
     ]
    }
   ],
   "source": [
    "import re\n",
    "\n",
    "# Example input\n",
    "ip_address = \"192.168.1.1\"\n",
    "\n",
    "# Pattern:\n",
    "# - Each octet: 0–255\n",
    "# - Use alternation for ranges: 25[0-5] (250–255), 2[0-4]\\d (200–249), 1\\d\\d (100–199), [1-9]?\\d (0–99)\n",
    "# - Separate by literal dots\n",
    "pattern = r\"^(?:(?:25[0-5]|2[0-4]\\d|1\\d\\d|[1-9]?\\d)\\.){3}\" \\\n",
    "          r\"(?:25[0-5]|2[0-4]\\d|1\\d\\d|[1-9]?\\d)$\"\n",
    "\n",
    "# Test the regex\n",
    "if re.fullmatch(pattern, ip_address):\n",
    "    print(\"Valid IP address\")\n",
    "else:\n",
    "    print(\"Invalid IP address\")\n"
   ]
  },
  {
   "cell_type": "markdown",
   "metadata": {},
   "source": [
    "### Exercise 10: Extract Hashtags \n",
    "Create a regex pattern to extract hashtags from a string."
   ]
  },
  {
   "cell_type": "code",
   "execution_count": 10,
   "metadata": {},
   "outputs": [
    {
     "name": "stdout",
     "output_type": "stream",
     "text": [
      "['#Python', '#Regex', '#Coding']\n"
     ]
    }
   ],
   "source": [
    "import re\n",
    "\n",
    "# Example input\n",
    "text = \"Here are some hashtags: #Python #Regex #Coding.\"\n",
    "\n",
    "# Pattern:\n",
    "# \\B#       -> match a '#' not at a word boundary (ensures it's part of a word, not something like 'C#')\n",
    "# [A-Za-z0-9_]+ -> one or more letters, digits, or underscores (valid hashtag characters)\n",
    "pattern = r\"\\B#[A-Za-z0-9_]+\"\n",
    "\n",
    "# Find all matches\n",
    "hashtags = re.findall(pattern, text)\n",
    "print(hashtags)\n"
   ]
  },
  {
   "cell_type": "markdown",
   "metadata": {},
   "source": [
    "## Bonus Exercises\n"
   ]
  },
  {
   "cell_type": "markdown",
   "metadata": {},
   "source": [
    "\n",
    "### Bonus Exercise 1: Match All Digits \n",
    "Write a regex pattern to match all digits in a given string."
   ]
  },
  {
   "cell_type": "code",
   "execution_count": 11,
   "metadata": {},
   "outputs": [
    {
     "name": "stdout",
     "output_type": "stream",
     "text": [
      "['2', '3']\n"
     ]
    }
   ],
   "source": [
    "import re\n",
    "\n",
    "# Example input\n",
    "text = \"There are 2 apples and 3 oranges.\"\n",
    "\n",
    "# Pattern:\n",
    "# \\d -> matches any single digit (0–9)\n",
    "pattern = r\"\\d\"\n",
    "\n",
    "# Find all matches\n",
    "digits = re.findall(pattern, text)\n",
    "print(digits)\n"
   ]
  },
  {
   "cell_type": "markdown",
   "metadata": {},
   "source": [
    "### Bonus Exercise 2: Validate Credit Card Numbers  \n",
    "Create a regex pattern to validate credit card numbers (16 digits)."
   ]
  },
  {
   "cell_type": "code",
   "execution_count": 12,
   "metadata": {},
   "outputs": [
    {
     "name": "stdout",
     "output_type": "stream",
     "text": [
      "Valid credit card number\n"
     ]
    }
   ],
   "source": [
    "import re\n",
    "\n",
    "# Example input\n",
    "credit_card_number = \"1234-5678-9876-5432\"\n",
    "\n",
    "# Pattern:\n",
    "# ^                           -> start of string\n",
    "# (?:\\d{4}[-\\s]?){3}          -> first 12 digits in 3 groups of 4, each optionally followed by a hyphen or space\n",
    "# \\d{4}                       -> final group of 4 digits\n",
    "# $                           -> end of string\n",
    "pattern = r\"^(?:\\d{4}[-\\s]?){3}\\d{4}$\"\n",
    "\n",
    "# Test the regex\n",
    "if re.fullmatch(pattern, credit_card_number):\n",
    "    print(\"Valid credit card number\")\n",
    "else:\n",
    "    print(\"Invalid credit card number\")\n"
   ]
  },
  {
   "cell_type": "markdown",
   "metadata": {},
   "source": [
    "### Bonus Exercise 3: Match Non-Alphanumeric Characters  \n",
    "Write a regex pattern to match non-alphanumeric characters in a string."
   ]
  },
  {
   "cell_type": "code",
   "execution_count": 13,
   "metadata": {},
   "outputs": [
    {
     "name": "stdout",
     "output_type": "stream",
     "text": [
      "['!', ' ', ' ', ' ', '?', ' ', '@', '.']\n"
     ]
    }
   ],
   "source": [
    "import re\n",
    "\n",
    "# Example input\n",
    "text = \"Hello! How are you? @Python3.\"\n",
    "\n",
    "# Pattern:\n",
    "# [^A-Za-z0-9] -> matches any character that is NOT a letter or digit\n",
    "pattern = r\"[^A-Za-z0-9]\"\n",
    "\n",
    "# Find all matches\n",
    "non_alphanumeric_chars = re.findall(pattern, text)\n",
    "print(non_alphanumeric_chars)\n"
   ]
  },
  {
   "cell_type": "markdown",
   "metadata": {},
   "source": [
    "### Bonus Exercise 4: Validate Date Format  \n",
    "Create a regex pattern to validate dates in the format DD/MM/YYYY."
   ]
  },
  {
   "cell_type": "code",
   "execution_count": 14,
   "metadata": {},
   "outputs": [
    {
     "name": "stdout",
     "output_type": "stream",
     "text": [
      "Valid date format\n"
     ]
    }
   ],
   "source": [
    "import re\n",
    "\n",
    "# Example input\n",
    "date_string = \"25/12/2024\"\n",
    "\n",
    "# Pattern:\n",
    "# ^                         -> start of string\n",
    "# (0[1-9]|[12]\\d|3[01])     -> day: 01–09, 10–29, 30–31\n",
    "# /                         -> separator\n",
    "# (0[1-9]|1[0-2])           -> month: 01–09, 10–12\n",
    "# /                         -> separator\n",
    "# \\d{4}                     -> year: exactly 4 digits\n",
    "# $                         -> end of string\n",
    "pattern = r\"^(0[1-9]|[12]\\d|3[01])/(0[1-9]|1[0-2])/\\d{4}$\"\n",
    "\n",
    "# Test the regex\n",
    "if re.fullmatch(pattern, date_string):\n",
    "    print(\"Valid date format\")\n",
    "else:\n",
    "    print(\"Invalid date format\")\n"
   ]
  },
  {
   "cell_type": "markdown",
   "metadata": {},
   "source": [
    "### Bonus Exercise 5: Extract Email Domains  \n",
    "Write a regex pattern to extract domains from email addresses."
   ]
  },
  {
   "cell_type": "code",
   "execution_count": 15,
   "metadata": {},
   "outputs": [
    {
     "name": "stdout",
     "output_type": "stream",
     "text": [
      "example.com\n",
      "domain.org\n"
     ]
    }
   ],
   "source": [
    "import re\n",
    "\n",
    "# Example input\n",
    "email_list = [\"user@example.com\", \"admin@domain.org\"]\n",
    "\n",
    "# Pattern:\n",
    "# @        -> literal '@'\n",
    "# ([A-Za-z0-9.-]+\\.[A-Za-z]{2,63}) -> capture domain name + TLD\n",
    "pattern = r\"@([A-Za-z0-9.-]+\\.[A-Za-z]{2,63})\"\n",
    "\n",
    "for email in email_list:\n",
    "    match = re.search(pattern, email)\n",
    "    if match:\n",
    "        print(match.group(1))  # Extracted domain part\n"
   ]
  },
  {
   "cell_type": "markdown",
   "metadata": {},
   "source": [
    "### Exercise Completion  \n",
    "Once you have completed all exercises:\n",
    "- Review your solutions.\n",
    "- Ensure your regular expressions and Python code are well-documented with comments explaining your logic.\n",
    "- Save your notebook for submission or further review.\n",
    "\n",
    "Happy coding! Enjoy practicing Regular Expressions in Python!"
   ]
  }
 ],
 "metadata": {
  "kernelspec": {
   "display_name": "Python 3",
   "language": "python",
   "name": "python3"
  },
  "language_info": {
   "codemirror_mode": {
    "name": "ipython",
    "version": 3
   },
   "file_extension": ".py",
   "mimetype": "text/x-python",
   "name": "python",
   "nbconvert_exporter": "python",
   "pygments_lexer": "ipython3",
   "version": "3.13.5"
  }
 },
 "nbformat": 4,
 "nbformat_minor": 2
}
